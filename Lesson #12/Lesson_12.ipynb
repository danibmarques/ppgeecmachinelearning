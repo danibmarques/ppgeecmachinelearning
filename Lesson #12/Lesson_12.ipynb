{
  "nbformat": 4,
  "nbformat_minor": 0,
  "metadata": {
    "colab": {
      "name": "Lesson #12.ipynb",
      "provenance": [],
      "toc_visible": true
    },
    "kernelspec": {
      "name": "python3",
      "display_name": "Python 3"
    },
    "accelerator": "GPU"
  },
  "cells": [
    {
      "cell_type": "markdown",
      "metadata": {
        "id": "SlpXg6Arm1Ah"
      },
      "source": [
        "# 1.0 CNN Architectures"
      ]
    },
    {
      "cell_type": "markdown",
      "metadata": {
        "id": "Abv6E1XrnAGS"
      },
      "source": [
        "Typical CNN architectures stack a few convolutional layers (each one generally followed\n",
        "by a ReLU layer), then a pooling layer, then another few convolutional layers\n",
        "(+ReLU), then another pooling layer, and so on. The image gets smaller and smaller\n",
        "as it progresses through the network, but it also typically gets deeper and deeper (i.e.,\n",
        "with more feature maps), thanks to the convolutional layers. At the\n",
        "top of the stack, a regular feedforward neural network is added, composed of a few fully connected layers (+ReLUs), and the final layer outputs the prediction (e.g., a softmax layer that outputs estimated class probabilities).\n",
        "\n",
        "\n",
        "<center><img width=\"600\" src=\"https://drive.google.com/uc?export=view&id=1c0D3t94_9thipKwsHHMj5YTl2HEUg9Kn\"></center><center>Typical CNN architecture</center>\n",
        "\n",
        "Over the years, variants of this fundamental architecture have been developed, leading\n",
        "to amazing advances in the field. A good measure of this progress is the error rate\n",
        "in competitions such as the [ILSVRC ImageNet challenge](http://image-net.org/). In this competition the top five\n",
        "error rate for image classification fell from over 26% to less than 2.3% in just six\n",
        "years. The top-five error rate is the number of test images for which the system’s top\n",
        "five predictions did not include the correct answer. The images are large (256 pixels\n",
        "high) and there are 1,000 classes, some of which are really subtle (try distinguishing\n",
        "120 dog breeds). Looking at the evolution of the winning entries is a good way to\n",
        "understand how CNNs work.\n",
        "\n",
        "We will first look at the classical **LeNet-5 architecture (1998)**, then three of the winners\n",
        "of the ILSVRC challenge: **AlexNet (2012)**, **GoogLeNet (2014)**, and **ResNet\n",
        "(2015)**.\n"
      ]
    },
    {
      "cell_type": "markdown",
      "metadata": {
        "id": "i9-p_Vv_n4C4"
      },
      "source": [
        "## 1.1 LeNet-5"
      ]
    },
    {
      "cell_type": "code",
      "metadata": {
        "id": "fVAEJgbHq3Zb"
      },
      "source": [
        "import tensorflow as tf\n",
        "from tensorflow.keras.models import Sequential\n",
        "from tensorflow.keras.layers import Conv2D,AveragePooling2D,Flatten,Dense,BatchNormalization,Activation\n",
        "from sklearn.metrics import classification_report\n",
        "import matplotlib.pyplot as plt\n",
        "import numpy as np\n",
        "import time\n",
        "import datetime\n",
        "import os\n",
        "import pytz"
      ],
      "execution_count": null,
      "outputs": []
    },
    {
      "cell_type": "code",
      "metadata": {
        "id": "VIif9rIRhAun",
        "colab": {
          "base_uri": "https://localhost:8080/"
        },
        "outputId": "dfabd84f-e5de-4255-f58d-07f7a9978ff1"
      },
      "source": [
        "# load the datasets\n",
        "(train_x, train_y), (test_x, test_y) = tf.keras.datasets.mnist.load_data()\n",
        "train_x = train_x / 255.0\n",
        "test_x = test_x / 255.0\n",
        "\n",
        "# train and test sets\n",
        "train_x = tf.expand_dims(train_x, 3)\n",
        "test_x = tf.expand_dims(test_x, 3)\n",
        "\n",
        "# print shape\n",
        "print(\"Train shape: {0:}\".format(train_x.shape))\n",
        "print(\"Test shape: {0:}\".format(test_x.shape))"
      ],
      "execution_count": null,
      "outputs": [
        {
          "output_type": "stream",
          "text": [
            "Downloading data from https://storage.googleapis.com/tensorflow/tf-keras-datasets/mnist.npz\n",
            "11493376/11490434 [==============================] - 0s 0us/step\n",
            "Train shape: (60000, 28, 28, 1)\n",
            "Test shape: (10000, 28, 28, 1)\n"
          ],
          "name": "stdout"
        }
      ]
    },
    {
      "cell_type": "code",
      "metadata": {
        "id": "IECW3g0tka1E",
        "colab": {
          "base_uri": "https://localhost:8080/"
        },
        "outputId": "a3c63dda-729b-4d57-df8a-7101edef0006"
      },
      "source": [
        "train_x[0].shape"
      ],
      "execution_count": null,
      "outputs": [
        {
          "output_type": "execute_result",
          "data": {
            "text/plain": [
              "TensorShape([28, 28, 1])"
            ]
          },
          "metadata": {
            "tags": []
          },
          "execution_count": 4
        }
      ]
    },
    {
      "cell_type": "markdown",
      "metadata": {
        "id": "b6PuJcR_ooRY"
      },
      "source": [
        "The [LeNet-5 architecture](http://yann.lecun.com/exdb/publis/pdf/lecun-01a.pdf) is perhaps the most widely known CNN architecture. As mentioned earlier, it was created by Yann LeCun in 1998 and has been widely used\n",
        "for handwritten digit recognition (MNIST). It is composed of the 7 layers such as: 3 convolutional layers, 2 subsampling (avg pooling) layers and 2 fully connected layers.\n",
        "\n",
        "<center><img width=\"800\" src=\"https://drive.google.com/uc?export=view&id=1cbeESUfIOLGZ5JgqLEsM-8TGrM9X6Bdn\"></center><center>LeNet-5 architecture</center>\n"
      ]
    },
    {
      "cell_type": "code",
      "metadata": {
        "id": "u-rs3zMOhfTs"
      },
      "source": [
        "# create model\n",
        "lenet5 = Sequential()\n",
        "\n",
        "lenet5.add(Conv2D(6, (5,5), strides=1,  activation='tanh', input_shape=(28,28,1), padding='same')) #C1\n",
        "lenet5.add(AveragePooling2D()) #S2\n",
        "lenet5.add(Conv2D(16, (5,5), strides=1, activation='tanh', padding='valid')) #C3\n",
        "lenet5.add(AveragePooling2D()) #S4\n",
        "lenet5.add(Flatten()) #Flatten\n",
        "lenet5.add(Dense(120, activation='tanh')) #C5\n",
        "lenet5.add(Dense(84, activation='tanh')) #F6\n",
        "lenet5.add(Dense(10, activation='softmax')) #Output layer"
      ],
      "execution_count": null,
      "outputs": []
    },
    {
      "cell_type": "code",
      "metadata": {
        "id": "wyhpMURGhjOl",
        "colab": {
          "base_uri": "https://localhost:8080/"
        },
        "outputId": "9609edca-9ce5-494f-8392-d22283a649cf"
      },
      "source": [
        "lenet5.summary()"
      ],
      "execution_count": null,
      "outputs": [
        {
          "output_type": "stream",
          "text": [
            "Model: \"sequential_3\"\n",
            "_________________________________________________________________\n",
            "Layer (type)                 Output Shape              Param #   \n",
            "=================================================================\n",
            "conv2d_6 (Conv2D)            (None, 28, 28, 6)         156       \n",
            "_________________________________________________________________\n",
            "average_pooling2d_6 (Average (None, 14, 14, 6)         0         \n",
            "_________________________________________________________________\n",
            "conv2d_7 (Conv2D)            (None, 10, 10, 16)        2416      \n",
            "_________________________________________________________________\n",
            "average_pooling2d_7 (Average (None, 5, 5, 16)          0         \n",
            "_________________________________________________________________\n",
            "flatten_3 (Flatten)          (None, 400)               0         \n",
            "_________________________________________________________________\n",
            "dense_9 (Dense)              (None, 120)               48120     \n",
            "_________________________________________________________________\n",
            "dense_10 (Dense)             (None, 84)                10164     \n",
            "_________________________________________________________________\n",
            "dense_11 (Dense)             (None, 10)                850       \n",
            "=================================================================\n",
            "Total params: 61,706\n",
            "Trainable params: 61,706\n",
            "Non-trainable params: 0\n",
            "_________________________________________________________________\n"
          ],
          "name": "stdout"
        }
      ]
    },
    {
      "cell_type": "code",
      "metadata": {
        "id": "Op81pXIGzhqn"
      },
      "source": [
        "class MyCustomCallback(tf.keras.callbacks.Callback):\n",
        "\n",
        "  def on_train_begin(self, batch, logs=None):\n",
        "    self.begins = time.time()\n",
        "    print('Training: begins at {}'.format(datetime.datetime.now(pytz.timezone('America/Fortaleza')).strftime(\"%Y-%m-%d %H:%M:%S\")))\n",
        "\n",
        "  def on_train_end(self, logs=None):\n",
        "    print('Training: ends at {}'.format(datetime.datetime.now(pytz.timezone('America/Fortaleza')).strftime(\"%Y-%m-%d %H:%M:%S\")))\n",
        "    print('Duration: {}s'.format(time.time() - self.begins))"
      ],
      "execution_count": null,
      "outputs": []
    },
    {
      "cell_type": "code",
      "metadata": {
        "id": "ezyJZXBUmj07",
        "colab": {
          "base_uri": "https://localhost:8080/"
        },
        "outputId": "04e7d25e-ff5e-4886-99c8-619abef7268f"
      },
      "source": [
        "# Instantiate a logistic loss function\n",
        "loss = tf.keras.losses.SparseCategoricalCrossentropy(from_logits=False)\n",
        "\n",
        "# Instantiate an accuracy metric.\n",
        "accuracy = tf.keras.metrics.SparseCategoricalAccuracy()\n",
        "\n",
        "# Instantiate an optimizer.\n",
        "optimizer = tf.keras.optimizers.Adam(learning_rate=0.001)\n",
        "\n",
        "# configure the optimizer, loss, and metrics to monitor.\n",
        "lenet5.compile(optimizer=optimizer, loss=loss, metrics=[accuracy])\n",
        "\n",
        "# training \n",
        "history = lenet5.fit(x=train_x,\n",
        "                    y=train_y,\n",
        "                    batch_size=32,\n",
        "                    epochs=5,\n",
        "                    validation_data=(test_x,test_y),\n",
        "                    callbacks=[MyCustomCallback()])"
      ],
      "execution_count": null,
      "outputs": [
        {
          "output_type": "stream",
          "text": [
            "Training: begins at 2020-11-16 08:57:30\n",
            "Epoch 1/5\n",
            "1875/1875 [==============================] - 6s 3ms/step - loss: 0.2239 - sparse_categorical_accuracy: 0.9330 - val_loss: 0.0975 - val_sparse_categorical_accuracy: 0.9709\n",
            "Epoch 2/5\n",
            "1875/1875 [==============================] - 5s 3ms/step - loss: 0.0861 - sparse_categorical_accuracy: 0.9731 - val_loss: 0.0689 - val_sparse_categorical_accuracy: 0.9775\n",
            "Epoch 3/5\n",
            "1875/1875 [==============================] - 6s 3ms/step - loss: 0.0586 - sparse_categorical_accuracy: 0.9816 - val_loss: 0.0580 - val_sparse_categorical_accuracy: 0.9818\n",
            "Epoch 4/5\n",
            "1875/1875 [==============================] - 6s 3ms/step - loss: 0.0457 - sparse_categorical_accuracy: 0.9860 - val_loss: 0.0519 - val_sparse_categorical_accuracy: 0.9828\n",
            "Epoch 5/5\n",
            "1875/1875 [==============================] - 6s 3ms/step - loss: 0.0363 - sparse_categorical_accuracy: 0.9879 - val_loss: 0.0548 - val_sparse_categorical_accuracy: 0.9823\n",
            "Training: ends at 2020-11-16 08:57:58\n",
            "Duration: 28.68424963951111s\n"
          ],
          "name": "stdout"
        }
      ]
    },
    {
      "cell_type": "code",
      "metadata": {
        "id": "5DWrfDFMznj7",
        "colab": {
          "base_uri": "https://localhost:8080/"
        },
        "outputId": "530b0f6e-749a-4483-dccd-b4add3d41fec"
      },
      "source": [
        "loss, acc = lenet5.evaluate(x=train_x,y=train_y, batch_size=32)\n",
        "print('Train loss: %.3f - acc: %.3f' % (loss, acc))\n",
        "\n",
        "loss_, acc_ = lenet5.evaluate(x=test_x,y=test_y, batch_size=32)\n",
        "print('Test loss: %.3f - acc: %.3f' % (loss_, acc_))"
      ],
      "execution_count": null,
      "outputs": [
        {
          "output_type": "stream",
          "text": [
            "1875/1875 [==============================] - 4s 2ms/step - loss: 0.0290 - sparse_categorical_accuracy: 0.9906\n",
            "Train loss: 0.029 - acc: 0.991\n",
            "313/313 [==============================] - 1s 2ms/step - loss: 0.0548 - sparse_categorical_accuracy: 0.9823\n",
            "Test loss: 0.055 - acc: 0.982\n"
          ],
          "name": "stdout"
        }
      ]
    },
    {
      "cell_type": "code",
      "metadata": {
        "id": "uIv-_Om2naSe",
        "colab": {
          "base_uri": "https://localhost:8080/"
        },
        "outputId": "1cdc69c7-19ee-4491-ab49-94423cc016eb"
      },
      "source": [
        "print(\"[INFO] evaluating network...\")\n",
        "predictions = lenet5.predict(test_x, batch_size=32)\n",
        "print(classification_report(test_y,predictions.argmax(axis=1)))"
      ],
      "execution_count": null,
      "outputs": [
        {
          "output_type": "stream",
          "text": [
            "[INFO] evaluating network...\n",
            "              precision    recall  f1-score   support\n",
            "\n",
            "           0       0.98      0.99      0.99       980\n",
            "           1       0.99      0.99      0.99      1135\n",
            "           2       0.99      0.98      0.99      1032\n",
            "           3       0.97      0.99      0.98      1010\n",
            "           4       0.98      0.99      0.99       982\n",
            "           5       0.99      0.97      0.98       892\n",
            "           6       0.98      0.99      0.98       958\n",
            "           7       0.98      0.98      0.98      1028\n",
            "           8       0.97      0.98      0.98       974\n",
            "           9       0.99      0.96      0.97      1009\n",
            "\n",
            "    accuracy                           0.98     10000\n",
            "   macro avg       0.98      0.98      0.98     10000\n",
            "weighted avg       0.98      0.98      0.98     10000\n",
            "\n"
          ],
          "name": "stdout"
        }
      ]
    },
    {
      "cell_type": "code",
      "metadata": {
        "id": "69wDe0EipLaF",
        "colab": {
          "base_uri": "https://localhost:8080/",
          "height": 299
        },
        "outputId": "3d47f71a-7aae-4b1f-acd3-d23daa44727a"
      },
      "source": [
        "# plot the training loss and accuracy\n",
        "plt.style.use(\"ggplot\")\n",
        "plt.figure()\n",
        "plt.plot(np.arange(0, 5), history.history[\"loss\"], label=\"train_loss\")\n",
        "plt.plot(np.arange(0, 5), history.history[\"val_loss\"], label=\"val_loss\")\n",
        "plt.plot(np.arange(0, 5), history.history[\"sparse_categorical_accuracy\"], label=\"train_acc\")\n",
        "plt.plot(np.arange(0, 5), history.history[\"val_sparse_categorical_accuracy\"], label=\"val_acc\")\n",
        "plt.title(\"Without Data Augmentation\")\n",
        "plt.xlabel(\"Epoch #\")\n",
        "plt.ylabel(\"Loss/Accuracy\")\n",
        "plt.legend()\n",
        "plt.show()"
      ],
      "execution_count": null,
      "outputs": [
        {
          "output_type": "display_data",
          "data": {
            "image/png": "[encoded data removed]",
            "text/plain": [
              "<Figure size 432x288 with 1 Axes>"
            ]
          },
          "metadata": {
            "tags": []
          }
        }
      ]
    },
    {
      "cell_type": "markdown",
      "metadata": {
        "id": "N4roRsf14UtO"
      },
      "source": [
        "### 1.1.1 LeNet-5 + BatchNormalization Before Relu"
      ]
    },
    {
      "cell_type": "code",
      "metadata": {
        "id": "LLPnVMH4DvHI"
      },
      "source": [
        "# create model\n",
        "lenet5 = Sequential()\n",
        "\n",
        "lenet5.add(Conv2D(6, (5,5), strides=1, input_shape=(28,28,1), padding='same')) #C1\n",
        "lenet5.add(BatchNormalization())\n",
        "lenet5.add(Activation(\"tanh\"))\n",
        "\n",
        "lenet5.add(AveragePooling2D()) #S2\n",
        "\n",
        "lenet5.add(Conv2D(16, (5,5), strides=1, padding='valid')) #C3\n",
        "lenet5.add(BatchNormalization())\n",
        "lenet5.add(Activation(\"tanh\"))\n",
        "\n",
        "lenet5.add(AveragePooling2D()) #S4\n",
        "\n",
        "lenet5.add(Flatten()) #Flatten\n",
        "\n",
        "lenet5.add(Dense(120)) #C5\n",
        "lenet5.add(BatchNormalization())\n",
        "lenet5.add(Activation(\"tanh\"))\n",
        "\n",
        "lenet5.add(Dense(84)) #F6\n",
        "lenet5.add(BatchNormalization())\n",
        "lenet5.add(Activation(\"tanh\"))\n",
        "\n",
        "lenet5.add(Dense(10, activation='softmax')) #Output layer"
      ],
      "execution_count": null,
      "outputs": []
    },
    {
      "cell_type": "code",
      "metadata": {
        "id": "e_ENNUsuDvHc",
        "colab": {
          "base_uri": "https://localhost:8080/"
        },
        "outputId": "ccc2b170-6310-4116-a3e5-2be69b556ff1"
      },
      "source": [
        "# In order to make the batch normalization work during training, \n",
        "# we need to keep track of the 4 parameters per feature on the previous layer: \n",
        "# [gamma weights, beta weights, moving_mean, moving_variance].\n",
        "# Moreover, both moving_mean, moving_variance are non-trainable.\n",
        "\n",
        "lenet5.summary()"
      ],
      "execution_count": null,
      "outputs": [
        {
          "output_type": "stream",
          "text": [
            "Model: \"sequential_1\"\n",
            "_________________________________________________________________\n",
            "Layer (type)                 Output Shape              Param #   \n",
            "=================================================================\n",
            "conv2d_2 (Conv2D)            (None, 28, 28, 6)         156       \n",
            "_________________________________________________________________\n",
            "batch_normalization (BatchNo (None, 28, 28, 6)         24        \n",
            "_________________________________________________________________\n",
            "activation (Activation)      (None, 28, 28, 6)         0         \n",
            "_________________________________________________________________\n",
            "average_pooling2d_2 (Average (None, 14, 14, 6)         0         \n",
            "_________________________________________________________________\n",
            "conv2d_3 (Conv2D)            (None, 10, 10, 16)        2416      \n",
            "_________________________________________________________________\n",
            "batch_normalization_1 (Batch (None, 10, 10, 16)        64        \n",
            "_________________________________________________________________\n",
            "activation_1 (Activation)    (None, 10, 10, 16)        0         \n",
            "_________________________________________________________________\n",
            "average_pooling2d_3 (Average (None, 5, 5, 16)          0         \n",
            "_________________________________________________________________\n",
            "flatten_1 (Flatten)          (None, 400)               0         \n",
            "_________________________________________________________________\n",
            "dense_3 (Dense)              (None, 120)               48120     \n",
            "_________________________________________________________________\n",
            "batch_normalization_2 (Batch (None, 120)               480       \n",
            "_________________________________________________________________\n",
            "activation_2 (Activation)    (None, 120)               0         \n",
            "_________________________________________________________________\n",
            "dense_4 (Dense)              (None, 84)                10164     \n",
            "_________________________________________________________________\n",
            "batch_normalization_3 (Batch (None, 84)                336       \n",
            "_________________________________________________________________\n",
            "activation_3 (Activation)    (None, 84)                0         \n",
            "_________________________________________________________________\n",
            "dense_5 (Dense)              (None, 10)                850       \n",
            "=================================================================\n",
            "Total params: 62,610\n",
            "Trainable params: 62,158\n",
            "Non-trainable params: 452\n",
            "_________________________________________________________________\n"
          ],
          "name": "stdout"
        }
      ]
    },
    {
      "cell_type": "code",
      "metadata": {
        "id": "0_TZhL_DDvHq",
        "colab": {
          "base_uri": "https://localhost:8080/"
        },
        "outputId": "7946e73a-10e5-4ced-86d7-db2eb382bae9"
      },
      "source": [
        "# Instantiate a logistic loss function\n",
        "loss = tf.keras.losses.SparseCategoricalCrossentropy(from_logits=False)\n",
        "\n",
        "# Instantiate an accuracy metric.\n",
        "accuracy = tf.keras.metrics.SparseCategoricalAccuracy()\n",
        "\n",
        "# Instantiate an optimizer.\n",
        "optimizer = tf.keras.optimizers.Adam(learning_rate=0.001)\n",
        "\n",
        "# configure the optimizer, loss, and metrics to monitor.\n",
        "lenet5.compile(optimizer=optimizer, loss=loss, metrics=[accuracy])\n",
        "\n",
        "# training \n",
        "history = lenet5.fit(x=train_x,\n",
        "                    y=train_y,\n",
        "                    batch_size=32,\n",
        "                    epochs=5,\n",
        "                    validation_data=(test_x,test_y),\n",
        "                    callbacks=[MyCustomCallback()])"
      ],
      "execution_count": null,
      "outputs": [
        {
          "output_type": "stream",
          "text": [
            "Training: begins at 2020-11-15 10:04:16\n",
            "Epoch 1/5\n",
            "1875/1875 [==============================] - 7s 4ms/step - loss: 0.1511 - sparse_categorical_accuracy: 0.9560 - val_loss: 0.0823 - val_sparse_categorical_accuracy: 0.9735\n",
            "Epoch 2/5\n",
            "1875/1875 [==============================] - 7s 4ms/step - loss: 0.0659 - sparse_categorical_accuracy: 0.9799 - val_loss: 0.0394 - val_sparse_categorical_accuracy: 0.9867\n",
            "Epoch 3/5\n",
            "1875/1875 [==============================] - 7s 4ms/step - loss: 0.0512 - sparse_categorical_accuracy: 0.9838 - val_loss: 0.0369 - val_sparse_categorical_accuracy: 0.9872\n",
            "Epoch 4/5\n",
            "1875/1875 [==============================] - 7s 4ms/step - loss: 0.0448 - sparse_categorical_accuracy: 0.9856 - val_loss: 0.0444 - val_sparse_categorical_accuracy: 0.9865\n",
            "Epoch 5/5\n",
            "1875/1875 [==============================] - 7s 4ms/step - loss: 0.0383 - sparse_categorical_accuracy: 0.9875 - val_loss: 0.0338 - val_sparse_categorical_accuracy: 0.9896\n",
            "Training: ends at 2020-11-15 10:04:51\n",
            "Duration: 35.011701345443726s\n"
          ],
          "name": "stdout"
        }
      ]
    },
    {
      "cell_type": "code",
      "metadata": {
        "id": "R6X9SYbWDvH2",
        "colab": {
          "base_uri": "https://localhost:8080/"
        },
        "outputId": "afd9811d-04fa-4506-a461-604370b57372"
      },
      "source": [
        "loss, acc = lenet5.evaluate(x=train_x,y=train_y, batch_size=32)\n",
        "print('Train loss: %.3f - acc: %.3f' % (loss, acc))\n",
        "\n",
        "loss_, acc_ = lenet5.evaluate(x=test_x,y=test_y, batch_size=32)\n",
        "print('Test loss: %.3f - acc: %.3f' % (loss_, acc_))"
      ],
      "execution_count": null,
      "outputs": [
        {
          "output_type": "stream",
          "text": [
            "1875/1875 [==============================] - 4s 2ms/step - loss: 0.0217 - sparse_categorical_accuracy: 0.9933\n",
            "Train loss: 0.022 - acc: 0.993\n",
            "313/313 [==============================] - 1s 2ms/step - loss: 0.0338 - sparse_categorical_accuracy: 0.9896\n",
            "Test loss: 0.034 - acc: 0.990\n"
          ],
          "name": "stdout"
        }
      ]
    },
    {
      "cell_type": "markdown",
      "metadata": {
        "id": "872ZrGQLCH-0"
      },
      "source": [
        "### 1.1.2 LeNet-5 + BatchNormalization After Relu"
      ]
    },
    {
      "cell_type": "code",
      "metadata": {
        "id": "d4jJ87NACH_A"
      },
      "source": [
        "# create model\n",
        "lenet5 = Sequential()\n",
        "\n",
        "lenet5.add(Conv2D(6, (5,5), strides=1,  activation='tanh', input_shape=(28,28,1), padding='same')) #C1\n",
        "lenet5.add(BatchNormalization())\n",
        "lenet5.add(AveragePooling2D()) #S2\n",
        "\n",
        "lenet5.add(Conv2D(16, (5,5), strides=1, activation='tanh', padding='valid')) #C3\n",
        "lenet5.add(BatchNormalization())\n",
        "lenet5.add(AveragePooling2D()) #S4\n",
        "\n",
        "lenet5.add(Flatten()) #Flatten\n",
        "lenet5.add(Dense(120, activation='tanh')) #C5\n",
        "lenet5.add(BatchNormalization())\n",
        "lenet5.add(Dense(84, activation='tanh')) #F6\n",
        "lenet5.add(BatchNormalization())\n",
        "\n",
        "lenet5.add(Dense(10, activation='softmax')) #Output layer"
      ],
      "execution_count": null,
      "outputs": []
    },
    {
      "cell_type": "code",
      "metadata": {
        "id": "mPWbGoQiCH_L",
        "colab": {
          "base_uri": "https://localhost:8080/"
        },
        "outputId": "b38040e4-dfa8-4c1f-bdf4-242afd258164"
      },
      "source": [
        "# In order to make the batch normalization work during training, \n",
        "# we need to keep track of the 4 parameters per feature on the previous layer: \n",
        "# [gamma weights, beta weights, moving_mean, moving_variance].\n",
        "# Moreover, both moving_mean, moving_variance are non-trainable.\n",
        "\n",
        "lenet5.summary()"
      ],
      "execution_count": null,
      "outputs": [
        {
          "output_type": "stream",
          "text": [
            "Model: \"sequential_3\"\n",
            "_________________________________________________________________\n",
            "Layer (type)                 Output Shape              Param #   \n",
            "=================================================================\n",
            "conv2d_6 (Conv2D)            (None, 28, 28, 6)         156       \n",
            "_________________________________________________________________\n",
            "batch_normalization_7 (Batch (None, 28, 28, 6)         24        \n",
            "_________________________________________________________________\n",
            "average_pooling2d_6 (Average (None, 14, 14, 6)         0         \n",
            "_________________________________________________________________\n",
            "conv2d_7 (Conv2D)            (None, 10, 10, 16)        2416      \n",
            "_________________________________________________________________\n",
            "batch_normalization_8 (Batch (None, 10, 10, 16)        64        \n",
            "_________________________________________________________________\n",
            "average_pooling2d_7 (Average (None, 5, 5, 16)          0         \n",
            "_________________________________________________________________\n",
            "flatten_3 (Flatten)          (None, 400)               0         \n",
            "_________________________________________________________________\n",
            "dense_9 (Dense)              (None, 120)               48120     \n",
            "_________________________________________________________________\n",
            "batch_normalization_9 (Batch (None, 120)               480       \n",
            "_________________________________________________________________\n",
            "dense_10 (Dense)             (None, 84)                10164     \n",
            "_________________________________________________________________\n",
            "batch_normalization_10 (Batc (None, 84)                336       \n",
            "_________________________________________________________________\n",
            "dense_11 (Dense)             (None, 10)                850       \n",
            "=================================================================\n",
            "Total params: 62,610\n",
            "Trainable params: 62,158\n",
            "Non-trainable params: 452\n",
            "_________________________________________________________________\n"
          ],
          "name": "stdout"
        }
      ]
    },
    {
      "cell_type": "code",
      "metadata": {
        "id": "8xprl3IXCH_R",
        "colab": {
          "base_uri": "https://localhost:8080/"
        },
        "outputId": "eefdcc45-fd7f-426f-da0f-e6718ef51a22"
      },
      "source": [
        "# Instantiate a logistic loss function\n",
        "loss = tf.keras.losses.SparseCategoricalCrossentropy(from_logits=False)\n",
        "\n",
        "# Instantiate an accuracy metric.\n",
        "accuracy = tf.keras.metrics.SparseCategoricalAccuracy()\n",
        "\n",
        "# Instantiate an optimizer.\n",
        "optimizer = tf.keras.optimizers.Adam(learning_rate=0.001)\n",
        "\n",
        "# configure the optimizer, loss, and metrics to monitor.\n",
        "lenet5.compile(optimizer=optimizer, loss=loss, metrics=[accuracy])\n",
        "\n",
        "# training \n",
        "history = lenet5.fit(x=train_x,\n",
        "                    y=train_y,\n",
        "                    batch_size=32,\n",
        "                    epochs=5,\n",
        "                    validation_data=(test_x,test_y),\n",
        "                    callbacks=[MyCustomCallback()])"
      ],
      "execution_count": null,
      "outputs": [
        {
          "output_type": "stream",
          "text": [
            "Training: begins at 2020-11-15 10:14:31\n",
            "Epoch 1/5\n",
            "1875/1875 [==============================] - 7s 4ms/step - loss: 0.1750 - sparse_categorical_accuracy: 0.9463 - val_loss: 0.0853 - val_sparse_categorical_accuracy: 0.9723\n",
            "Epoch 2/5\n",
            "1875/1875 [==============================] - 7s 4ms/step - loss: 0.0758 - sparse_categorical_accuracy: 0.9766 - val_loss: 0.0436 - val_sparse_categorical_accuracy: 0.9857\n",
            "Epoch 3/5\n",
            "1875/1875 [==============================] - 7s 4ms/step - loss: 0.0577 - sparse_categorical_accuracy: 0.9819 - val_loss: 0.0498 - val_sparse_categorical_accuracy: 0.9846\n",
            "Epoch 4/5\n",
            "1875/1875 [==============================] - 7s 4ms/step - loss: 0.0453 - sparse_categorical_accuracy: 0.9863 - val_loss: 0.0580 - val_sparse_categorical_accuracy: 0.9819\n",
            "Epoch 5/5\n",
            "1875/1875 [==============================] - 7s 4ms/step - loss: 0.0387 - sparse_categorical_accuracy: 0.9875 - val_loss: 0.0608 - val_sparse_categorical_accuracy: 0.9819\n",
            "Training: ends at 2020-11-15 10:15:05\n",
            "Duration: 34.0645956993103s\n"
          ],
          "name": "stdout"
        }
      ]
    },
    {
      "cell_type": "code",
      "metadata": {
        "id": "tc_pRocqCH_V",
        "colab": {
          "base_uri": "https://localhost:8080/"
        },
        "outputId": "ecfd6c9f-7886-45f9-b2f4-852715ebd467"
      },
      "source": [
        "loss, acc = lenet5.evaluate(x=train_x,y=train_y, batch_size=32)\n",
        "print('Train loss: %.3f - acc: %.3f' % (loss, acc))\n",
        "\n",
        "loss_, acc_ = lenet5.evaluate(x=test_x,y=test_y, batch_size=32)\n",
        "print('Test loss: %.3f - acc: %.3f' % (loss_, acc_))"
      ],
      "execution_count": null,
      "outputs": [
        {
          "output_type": "stream",
          "text": [
            "1875/1875 [==============================] - 4s 2ms/step - loss: 0.0415 - sparse_categorical_accuracy: 0.9862\n",
            "Train loss: 0.042 - acc: 0.986\n",
            "313/313 [==============================] - 1s 2ms/step - loss: 0.0608 - sparse_categorical_accuracy: 0.9819\n",
            "Test loss: 0.061 - acc: 0.982\n"
          ],
          "name": "stdout"
        }
      ]
    },
    {
      "cell_type": "markdown",
      "metadata": {
        "id": "ElCu4byeuZjo"
      },
      "source": [
        "### 1.1.3 Data Augmentation"
      ]
    },
    {
      "cell_type": "markdown",
      "metadata": {
        "id": "blctuqAA-5G5"
      },
      "source": [
        "According to [Goodfellow et al.](https://www.deeplearningbook.org/), regularization is\n",
        "\n",
        "> “(...) any modification we make to a learning algorithm that is intended to reduce its generalization error, but not its training error”\n",
        "\n",
        "In short, regularization seeks to reduce our testing error perhaps at the expense of increasing training error slightly.\n",
        "\n",
        "We’ve already looked at different forms of regularization in the first part of this course; however, these were parameterized forms of regularization, requiring us to update our loss/update\n",
        "function. In fact, there exist other types of regularization that either:\n",
        "\n",
        "1. Modify the network architecture itself.\n",
        "2. Augment the data passed into the network for training.\n",
        "\n",
        "**Dropout** is a great example of modifying a network architecture by achieving greater generalizability. Here we insert a layer that randomly disconnects nodes from the previous layer to the next layer, thereby ensuring that no single node is responsible for learning how to represent a given class.\n",
        "\n",
        "In this section we’ll be discussing another type of regularization called **data augmentation**. This method purposely perturbs training examples, changing their appearance slightly, before passing them into the network for training. The end result is that a network consistently sees “new” training data points generated from the original training data, partially alleviating the need for us to gather more training data (though in general, gathering more training data will rarely hurt your algorithm).\n",
        "\n",
        "**Data augmentation** encompasses a wide range of techniques used to generate new training samples from the original ones by applying random jitters and perturbations such that the classes labels are\n",
        "not changed. \n",
        "\n",
        "> Our goal when applying **data augmentation** is to increase the generalizability of the model. \n",
        "\n",
        "Given that our network is constantly seeing new, slightly modified versions of the input data points, it’s able to learn more robust features. \n",
        "\n",
        "> At testing time, we do not apply data augmentation\n",
        "and evaluate our trained network – in most cases, you’ll see an increase in testing accuracy, perhaps at the expense at a slight dip in training accuracy.\n",
        "\n",
        "<center><img width=\"600\" src=\"https://drive.google.com/uc?export=view&id=1PWNBYi_ziF8YnCCd25vnmsf9nxq-KsGH\"></center><center><b>Left</b>: A sample of 250 data points that follow a normal distribution exactly. <b>Right</b>: Adding a small amount of random “jitter” to the distribution. This type of data augmentation can\n",
        "increase the generalizability of our networks.</center>\n",
        "\n",
        "\n",
        "Let’s consider the Figure above (**left**) of a normal distribution with zero mean and unit variance. Training a machine learning model on this data may result in us modeling the distribution exactly –\n",
        "however, in real-world applications, data rarely follows such a neat distribution.\n",
        "\n",
        "Instead, to increase the generalizability of our classifier, we may first randomly jitter points along the distribution by adding some values e drawn from a random distribution (**right**). Our plot\n",
        "still follows an **approximately normal distribution**, but it’s not a perfect distribution as on the left. A model trained on this data is more likely to generalize to example data points not included in the\n",
        "training set.\n",
        "  **In the context of computer vision, data augmentation lends itself naturally**. For example, we can obtain additional training data from the original images by apply simple geometric transforms such as random:\n",
        "\n",
        "1. Translations\n",
        "2. Rotations\n",
        "3. Changes in scale\n",
        "4. Shearing\n",
        "5. Horizontal (and in some cases, vertical) flips\n",
        "\n",
        "Applying a (small) amount of these transformations to an input image will change its appearance slightly, but it does not change the class label – thereby making data augmentation a very natural, easy method to apply to deep learning for computer vision tasks."
      ]
    },
    {
      "cell_type": "code",
      "metadata": {
        "id": "4DBD44X1ujyO",
        "colab": {
          "base_uri": "https://localhost:8080/"
        },
        "outputId": "0f8a5722-01f1-404f-a6c4-0f37d62a97ff"
      },
      "source": [
        "}# load the datasets\n",
        "(train_x, train_y), (test_x, test_y) = tf.keras.datasets.mnist.load_data()\n",
        "train_x = train_x / 255.0\n",
        "test_x = test_x / 255.0\n",
        "\n",
        "# train and test sets\n",
        "train_x = tf.expand_dims(train_x, 3)\n",
        "test_x = tf.expand_dims(test_x, 3)\n",
        "\n",
        "# print shape\n",
        "print(\"Train shape: {0:}\".format(train_x.shape))\n",
        "print(\"Test shape: {0:}\".format(test_x.shape))"
      ],
      "execution_count": null,
      "outputs": [
        {
          "output_type": "stream",
          "text": [
            "Train shape: (60000, 28, 28, 1)\n",
            "Test shape: (10000, 28, 28, 1)\n"
          ],
          "name": "stdout"
        }
      ]
    },
    {
      "cell_type": "code",
      "metadata": {
        "id": "Cpa4fRxmuweP"
      },
      "source": [
        "# visualize 18 numbers\n",
        "def show_image(train_image, label, index):\n",
        "    plt.subplot(3, 6, index+1)\n",
        "    plt.imshow(tf.squeeze(train_image), cmap=plt.cm.gray)\n",
        "    plt.title(label)\n",
        "    plt.grid(b=None)"
      ],
      "execution_count": null,
      "outputs": []
    },
    {
      "cell_type": "code",
      "metadata": {
        "id": "m43Dq3WowsCk",
        "colab": {
          "base_uri": "https://localhost:8080/",
          "height": 552
        },
        "outputId": "58bdbfa7-53b3-4915-f1e7-42e8b2966b3f"
      },
      "source": [
        "# visualize the first 18 numbers\n",
        "plt.figure(figsize=(12, 8))\n",
        "for index in range(18):\n",
        "    label = train_y[index]\n",
        "    image_pixels = train_x[index,:,:,:]\n",
        "    show_image(image_pixels, label, index)\n",
        "plt.tight_layout()"
      ],
      "execution_count": null,
      "outputs": [
        {
          "output_type": "display_data",
          "data": {
            "image/png": "[encoded data removed]",
            "text/plain": [
              "<Figure size 864x576 with 18 Axes>"
            ]
          },
          "metadata": {
            "tags": [],
            "needs_background": "light"
          }
        }
      ]
    },
    {
      "cell_type": "code",
      "metadata": {
        "id": "gWaYGtKGx4RO",
        "colab": {
          "base_uri": "https://localhost:8080/",
          "height": 282
        },
        "outputId": "54aaa137-c38e-4142-8331-2714461c97f9"
      },
      "source": [
        "from tensorflow.keras.preprocessing.image import ImageDataGenerator\n",
        "\n",
        "# construct the image generator for data augmentation then\n",
        "# initialize the total number of images generated thus far\n",
        "aug = ImageDataGenerator(rotation_range=30, width_shift_range=0.1,\n",
        "                         height_shift_range=0.1, shear_range=0.2, zoom_range=0.2,\n",
        "                         horizontal_flip=False, fill_mode=\"nearest\")\n",
        "total = 0\n",
        "image = train_x[0:1,:,:,:]\n",
        "\n",
        "# construct the actual Python generator\n",
        "print(\"[INFO] generating images...\")\n",
        "imageGen = aug.flow(image, batch_size=1)\n",
        "\n",
        "# loop over examples from our image data augmentation generator\n",
        "for img in imageGen:\n",
        "\n",
        "  show_image(img, train_y[0], total)\n",
        "\n",
        "  # increment our counter\n",
        "  total += 1\n",
        "\n",
        "  # if we have reached 10 examples, break from the loop\n",
        "  if total == 18:\n",
        "    break"
      ],
      "execution_count": null,
      "outputs": [
        {
          "output_type": "stream",
          "text": [
            "[INFO] generating images...\n"
          ],
          "name": "stdout"
        },
        {
          "output_type": "display_data",
          "data": {
            "image/png": "[encoded data removed]",
            "text/plain": [
              "<Figure size 432x288 with 18 Axes>"
            ]
          },
          "metadata": {
            "tags": [],
            "needs_background": "light"
          }
        }
      ]
    },
    {
      "cell_type": "code",
      "metadata": {
        "id": "xhskPpM63TVj"
      },
      "source": [
        "# create model\n",
        "lenet5 = Sequential()\n",
        "\n",
        "lenet5.add(Conv2D(6, (5,5), strides=1,  activation='tanh', input_shape=(28,28,1), padding='same')) #C1\n",
        "lenet5.add(BatchNormalization())\n",
        "lenet5.add(AveragePooling2D()) #S2\n",
        "\n",
        "lenet5.add(Conv2D(16, (5,5), strides=1, activation='tanh', padding='valid')) #C3\n",
        "lenet5.add(BatchNormalization())\n",
        "lenet5.add(AveragePooling2D()) #S4\n",
        "\n",
        "lenet5.add(Flatten()) #Flatten\n",
        "lenet5.add(Dense(120, activation='tanh')) #C5\n",
        "lenet5.add(BatchNormalization())\n",
        "lenet5.add(Dense(84, activation='tanh')) #F6\n",
        "lenet5.add(BatchNormalization())\n",
        "\n",
        "lenet5.add(Dense(10, activation='softmax')) #Output layer"
      ],
      "execution_count": null,
      "outputs": []
    },
    {
      "cell_type": "code",
      "metadata": {
        "id": "xOxMG4GF3XZ0"
      },
      "source": [
        "# Instantiate a logistic loss function\n",
        "loss = tf.keras.losses.SparseCategoricalCrossentropy(from_logits=False)\n",
        "\n",
        "# Instantiate an accuracy metric.\n",
        "accuracy = tf.keras.metrics.SparseCategoricalAccuracy()\n",
        "\n",
        "# Instantiate an optimizer.\n",
        "optimizer = tf.keras.optimizers.Adam(learning_rate=0.001)\n",
        "\n",
        "# configure the optimizer, loss, and metrics to monitor.\n",
        "lenet5.compile(optimizer=optimizer, loss=loss, metrics=[accuracy])\n"
      ],
      "execution_count": null,
      "outputs": []
    },
    {
      "cell_type": "code",
      "metadata": {
        "id": "uCRg_wpo3eVq",
        "colab": {
          "base_uri": "https://localhost:8080/"
        },
        "outputId": "2072600b-d0a2-41ec-db42-6738b8624417"
      },
      "source": [
        "# construct the image generator for data augmentation then\n",
        "# initialize the total number of images generated thus far\n",
        "aug = ImageDataGenerator(rotation_range=30, width_shift_range=0.1,\n",
        "                         height_shift_range=0.1, shear_range=0.2, zoom_range=0.2,\n",
        "                         horizontal_flip=False, fill_mode=\"nearest\")\n",
        "\n",
        "print(\"[INFO] training network...\")\n",
        "history = lenet5.fit(aug.flow(train_x, train_y, batch_size=32),\n",
        "                     validation_data=(test_x, test_y), \n",
        "                     #steps_per_epoch=len(train_x) // 32,\n",
        "                     epochs=5, verbose=1,\n",
        "                     callbacks=[MyCustomCallback()])"
      ],
      "execution_count": null,
      "outputs": [
        {
          "output_type": "stream",
          "text": [
            "[INFO] training network...\n",
            "Training: begins at 2020-11-16 09:04:30\n",
            "Epoch 1/5\n",
            "1875/1875 [==============================] - 22s 12ms/step - loss: 0.4943 - sparse_categorical_accuracy: 0.8429 - val_loss: 0.0911 - val_sparse_categorical_accuracy: 0.9711\n",
            "Epoch 2/5\n",
            "1875/1875 [==============================] - 22s 12ms/step - loss: 0.2198 - sparse_categorical_accuracy: 0.9303 - val_loss: 0.0813 - val_sparse_categorical_accuracy: 0.9729\n",
            "Epoch 3/5\n",
            "1875/1875 [==============================] - 22s 12ms/step - loss: 0.1729 - sparse_categorical_accuracy: 0.9456 - val_loss: 0.0626 - val_sparse_categorical_accuracy: 0.9821\n",
            "Epoch 4/5\n",
            "1875/1875 [==============================] - 22s 12ms/step - loss: 0.1527 - sparse_categorical_accuracy: 0.9536 - val_loss: 0.0551 - val_sparse_categorical_accuracy: 0.9823\n",
            "Epoch 5/5\n",
            "1875/1875 [==============================] - 22s 12ms/step - loss: 0.1425 - sparse_categorical_accuracy: 0.9567 - val_loss: 0.0535 - val_sparse_categorical_accuracy: 0.9822\n",
            "Training: ends at 2020-11-16 09:06:22\n",
            "Duration: 112.11464643478394s\n"
          ],
          "name": "stdout"
        }
      ]
    },
    {
      "cell_type": "code",
      "metadata": {
        "id": "miY0Hrn-8Ukq",
        "colab": {
          "base_uri": "https://localhost:8080/"
        },
        "outputId": "f13b7838-3912-45cc-c5a7-07708a490a36"
      },
      "source": [
        "loss, acc = lenet5.evaluate(x=train_x,y=train_y, batch_size=32)\n",
        "print('Train loss: %.3f - acc: %.3f' % (loss, acc))\n",
        "\n",
        "loss_, acc_ = lenet5.evaluate(x=test_x,y=test_y, batch_size=32)\n",
        "print('Test loss: %.3f - acc: %.3f' % (loss_, acc_))"
      ],
      "execution_count": null,
      "outputs": [
        {
          "output_type": "stream",
          "text": [
            "1875/1875 [==============================] - 5s 2ms/step - loss: 0.0561 - sparse_categorical_accuracy: 0.9820\n",
            "Train loss: 0.056 - acc: 0.982\n",
            "313/313 [==============================] - 1s 2ms/step - loss: 0.0535 - sparse_categorical_accuracy: 0.9822\n",
            "Test loss: 0.053 - acc: 0.982\n"
          ],
          "name": "stdout"
        }
      ]
    },
    {
      "cell_type": "code",
      "metadata": {
        "id": "H5jZT8cO5Oiu",
        "colab": {
          "base_uri": "https://localhost:8080/"
        },
        "outputId": "84202687-3da2-403e-e04e-de3b0f001425"
      },
      "source": [
        "print(\"[INFO] evaluating network...\")\n",
        "predictions = lenet5.predict(test_x, batch_size=32)\n",
        "print(classification_report(test_y,predictions.argmax(axis=1)))"
      ],
      "execution_count": null,
      "outputs": [
        {
          "output_type": "stream",
          "text": [
            "[INFO] evaluating network...\n",
            "              precision    recall  f1-score   support\n",
            "\n",
            "           0       0.99      0.99      0.99       980\n",
            "           1       0.99      0.99      0.99      1135\n",
            "           2       0.99      0.99      0.99      1032\n",
            "           3       0.97      0.99      0.98      1010\n",
            "           4       0.97      0.99      0.98       982\n",
            "           5       0.97      0.99      0.98       892\n",
            "           6       0.97      0.99      0.98       958\n",
            "           7       0.98      0.99      0.98      1028\n",
            "           8       0.98      0.94      0.96       974\n",
            "           9       0.99      0.94      0.96      1009\n",
            "\n",
            "    accuracy                           0.98     10000\n",
            "   macro avg       0.98      0.98      0.98     10000\n",
            "weighted avg       0.98      0.98      0.98     10000\n",
            "\n"
          ],
          "name": "stdout"
        }
      ]
    },
    {
      "cell_type": "code",
      "metadata": {
        "id": "laEVzGt25Oix",
        "colab": {
          "base_uri": "https://localhost:8080/",
          "height": 299
        },
        "outputId": "43bff9e6-b76c-40cd-d9bd-73999b1e6379"
      },
      "source": [
        "# plot the training loss and accuracy\n",
        "plt.style.use(\"ggplot\")\n",
        "plt.figure()\n",
        "plt.plot(np.arange(0, 5), history.history[\"loss\"], label=\"train_loss\")\n",
        "plt.plot(np.arange(0, 5), history.history[\"val_loss\"], label=\"val_loss\")\n",
        "plt.plot(np.arange(0, 5), history.history[\"sparse_categorical_accuracy\"], label=\"train_acc\")\n",
        "plt.plot(np.arange(0, 5), history.history[\"val_sparse_categorical_accuracy\"], label=\"val_acc\")\n",
        "plt.title(\"Using Data Augmentation\")\n",
        "plt.xlabel(\"Epoch #\")\n",
        "plt.ylabel(\"Loss/Accuracy\")\n",
        "plt.legend()\n",
        "plt.show()"
      ],
      "execution_count": null,
      "outputs": [
        {
          "output_type": "display_data",
          "data": {
            "image/png": "[encoded data removed]",
            "text/plain": [
              "<Figure size 432x288 with 1 Axes>"
            ]
          },
          "metadata": {
            "tags": []
          }
        }
      ]
    },
    {
      "cell_type": "code",
      "metadata": {
        "id": "9HDkMSAH8yur"
      },
      "source": [
        "# predictions\n",
        "predictions = lenet5.predict(test_x)\n",
        "results = np.argmax(predictions, axis = 1)"
      ],
      "execution_count": null,
      "outputs": []
    },
    {
      "cell_type": "code",
      "metadata": {
        "id": "Mi1gxpyF9N6o",
        "colab": {
          "base_uri": "https://localhost:8080/",
          "height": 553
        },
        "outputId": "993ed8d4-bf2d-4f1e-bd9a-774544e3fc18"
      },
      "source": [
        "# visualize the first 18 test results\n",
        "plt.figure(figsize=(12, 8))\n",
        "for index in range(18):\n",
        "    label = results[index]\n",
        "    image_pixels = test_x[index,:,:,:]\n",
        "    show_image(image_pixels, label, index)\n",
        "plt.tight_layout()"
      ],
      "execution_count": null,
      "outputs": [
        {
          "output_type": "display_data",
          "data": {
            "image/png": "[encoded data removed]",
            "text/plain": [
              "<Figure size 864x576 with 18 Axes>"
            ]
          },
          "metadata": {
            "tags": []
          }
        }
      ]
    },
    {
      "cell_type": "markdown",
      "metadata": {
        "id": "3j1ycBMjdLo7"
      },
      "source": [
        "## 1.2 AlexNet"
      ]
    },
    {
      "cell_type": "markdown",
      "metadata": {
        "id": "OUpnbNILjPl5"
      },
      "source": [
        "The [AlexNet CNN architecture](https://papers.nips.cc/paper/2012/hash/c399862d3b9d6b76c8436e924a68c45b-Abstract.html) won the 2012 ImageNet ILSVRC challenge by a large margin: it achieved a top-five error rate of 17%, while the second best achieved only 26%! It was developed by Alex Krizhevsky (hence the name), Ilya Sutskever, and Geoffrey Hinton. \n",
        "\n",
        "**It is similar to LeNet-5, only much larger and deeper**, and it was the first to stack convolutional layers directly on top of one another, instead of stacking a pooling layer on top of each convolutional layer. Table below presents this architecture.\n",
        "\n",
        "<center><img width=\"600\" src=\"https://drive.google.com/uc?export=view&id=193aOD83q_m_apxqjv1kFSjGRYFV7HfL2\"></center><center>AlexNet Architecture.</center>\n",
        "\n",
        "To reduce overfitting, the authors used **two regularization techniques**. First, they applied dropout with a 50% dropout rate during training to the outputs of layers F9 and F10. Second, they performed **data augmentation** by randomly shifting the training images by various offsets, flipping them horizontally, and changing the lighting conditions.\n",
        "\n",
        "**Data augmentation** artificially increases the size of the training set by generating many realistic variants of each training instance. **This reduces overfitting**, making this a regularization technique. The generated instances should be as realistic as possible:\n",
        "ideally, given an image from the augmented training set, a human should not be able to tell whether it was augmented or not. Simply adding white noise will not help; the modifications should be learnable (white noise is not).\n",
        "\n",
        "AlexNet also uses a competitive normalization step immediately after the ReLU step of layers C1 and C3, called **Local Response Normalization (LRN)**: the most strongly activated neurons inhibit other neurons located at the same position in neighboring feature\n",
        "maps (such competitive activation has been observed in biological neurons). This encourages different feature maps to specialize, pushing them apart and forcing them to explore a wider range of features, ultimately improving generalization.\n",
        "\n",
        "A variant of AlexNet called [ZF Net](https://arxiv.org/abs/1311.2901) was developed by Matthew Zeiler and Rob Fergus and won the 2013 ILSVRC challenge. It is essentially AlexNet with a few tweaked hyperparameters (number of feature maps, kernel size, stride, etc.)."
      ]
    },
    {
      "cell_type": "code",
      "metadata": {
        "id": "LAn06umgc-2I"
      },
      "source": [
        "# import the necessary packages\n",
        "from tensorflow.keras.models import Sequential\n",
        "from tensorflow.keras.layers import BatchNormalization\n",
        "from tensorflow.keras.layers import Conv2D\n",
        "from tensorflow.keras.layers import MaxPooling2D\n",
        "from tensorflow.keras.layers import Activation\n",
        "from tensorflow.keras.layers import Flatten\n",
        "from tensorflow.keras.layers import Dropout\n",
        "from tensorflow.keras.layers import Dense\n",
        "from tensorflow.keras.regularizers import l2\n",
        "\n",
        "# create a model\n",
        "model = Sequential()\n",
        "\n",
        "# Block #1: first CONV => RELU => POOL layer set\n",
        "model.add(Conv2D(96, (11, 11), strides=(4, 4),\n",
        "                 input_shape=(227,227,3), padding=\"valid\",\n",
        "                 kernel_regularizer=l2(0.0002),activation='relu'))\n",
        "model.add(BatchNormalization())\n",
        "model.add(MaxPooling2D(pool_size=(3, 3), strides=(2, 2)))\n",
        "model.add(Dropout(0.25))\n",
        "\n",
        "# Block #2: second CONV => RELU => POOL layer set\n",
        "model.add(Conv2D(256, (5, 5), padding=\"same\",\n",
        "                 kernel_regularizer=l2(0.0002),activation='relu'))\n",
        "model.add(BatchNormalization())\n",
        "model.add(MaxPooling2D(pool_size=(3, 3), strides=(2, 2)))\n",
        "model.add(Dropout(0.25))\n",
        "\n",
        "# Block #3: CONV => RELU => CONV => RELU => CONV => RELU\n",
        "model.add(Conv2D(384, (3, 3), padding=\"same\",\n",
        "                 kernel_regularizer=l2(0.0002),activation='relu'))\n",
        "model.add(BatchNormalization())\n",
        "model.add(Conv2D(384, (3, 3), padding=\"same\",\n",
        "                 kernel_regularizer=l2(0.002),activation='relu'))\n",
        "model.add(BatchNormalization())\n",
        "model.add(Conv2D(256, (3, 3), padding=\"same\",\n",
        "                 kernel_regularizer=l2(0.002),activation='relu'))\n",
        "model.add(BatchNormalization())\n",
        "model.add(MaxPooling2D(pool_size=(3, 3), strides=(2, 2)))\n",
        "model.add(Dropout(0.25))\n",
        "\n",
        "# Block #4: first set of FC => RELU layers\n",
        "model.add(Flatten())\n",
        "model.add(Dense(4096, kernel_regularizer=l2(0.0002),activation='relu'))\n",
        "model.add(BatchNormalization())\n",
        "model.add(Dropout(0.5))\n",
        "\n",
        "# Block #5: second set of FC => RELU layers\n",
        "model.add(Dense(4096, kernel_regularizer=l2(0.0002),activation='relu'))\n",
        "model.add(BatchNormalization())\n",
        "model.add(Dropout(0.5))\n",
        "\n",
        "# softmax classifier\n",
        "model.add(Dense(2, kernel_regularizer=l2(0.0002)))\n",
        "model.add(Activation(\"softmax\"))"
      ],
      "execution_count": null,
      "outputs": []
    },
    {
      "cell_type": "code",
      "metadata": {
        "id": "mfVqZPnedAsC",
        "colab": {
          "base_uri": "https://localhost:8080/"
        },
        "outputId": "9a3f3a6d-fb8b-4f5e-8bd7-600c222541e3"
      },
      "source": [
        "model.summary()"
      ],
      "execution_count": null,
      "outputs": [
        {
          "output_type": "stream",
          "text": [
            "Model: \"sequential_3\"\n",
            "_________________________________________________________________\n",
            "Layer (type)                 Output Shape              Param #   \n",
            "=================================================================\n",
            "conv2d_15 (Conv2D)           (None, 55, 55, 96)        34944     \n",
            "_________________________________________________________________\n",
            "batch_normalization_21 (Batc (None, 55, 55, 96)        384       \n",
            "_________________________________________________________________\n",
            "max_pooling2d_9 (MaxPooling2 (None, 27, 27, 96)        0         \n",
            "_________________________________________________________________\n",
            "dropout_15 (Dropout)         (None, 27, 27, 96)        0         \n",
            "_________________________________________________________________\n",
            "conv2d_16 (Conv2D)           (None, 27, 27, 256)       614656    \n",
            "_________________________________________________________________\n",
            "batch_normalization_22 (Batc (None, 27, 27, 256)       1024      \n",
            "_________________________________________________________________\n",
            "max_pooling2d_10 (MaxPooling (None, 13, 13, 256)       0         \n",
            "_________________________________________________________________\n",
            "dropout_16 (Dropout)         (None, 13, 13, 256)       0         \n",
            "_________________________________________________________________\n",
            "conv2d_17 (Conv2D)           (None, 13, 13, 384)       885120    \n",
            "_________________________________________________________________\n",
            "batch_normalization_23 (Batc (None, 13, 13, 384)       1536      \n",
            "_________________________________________________________________\n",
            "conv2d_18 (Conv2D)           (None, 13, 13, 384)       1327488   \n",
            "_________________________________________________________________\n",
            "batch_normalization_24 (Batc (None, 13, 13, 384)       1536      \n",
            "_________________________________________________________________\n",
            "conv2d_19 (Conv2D)           (None, 13, 13, 256)       884992    \n",
            "_________________________________________________________________\n",
            "batch_normalization_25 (Batc (None, 13, 13, 256)       1024      \n",
            "_________________________________________________________________\n",
            "max_pooling2d_11 (MaxPooling (None, 6, 6, 256)         0         \n",
            "_________________________________________________________________\n",
            "dropout_17 (Dropout)         (None, 6, 6, 256)         0         \n",
            "_________________________________________________________________\n",
            "flatten_3 (Flatten)          (None, 9216)              0         \n",
            "_________________________________________________________________\n",
            "dense_7 (Dense)              (None, 4096)              37752832  \n",
            "_________________________________________________________________\n",
            "batch_normalization_26 (Batc (None, 4096)              16384     \n",
            "_________________________________________________________________\n",
            "dropout_18 (Dropout)         (None, 4096)              0         \n",
            "_________________________________________________________________\n",
            "dense_8 (Dense)              (None, 4096)              16781312  \n",
            "_________________________________________________________________\n",
            "batch_normalization_27 (Batc (None, 4096)              16384     \n",
            "_________________________________________________________________\n",
            "dropout_19 (Dropout)         (None, 4096)              0         \n",
            "_________________________________________________________________\n",
            "dense_9 (Dense)              (None, 2)                 8194      \n",
            "_________________________________________________________________\n",
            "activation_1 (Activation)    (None, 2)                 0         \n",
            "=================================================================\n",
            "Total params: 58,327,810\n",
            "Trainable params: 58,308,674\n",
            "Non-trainable params: 19,136\n",
            "_________________________________________________________________\n"
          ],
          "name": "stdout"
        }
      ]
    },
    {
      "cell_type": "code",
      "metadata": {
        "id": "xKw6THfhCGBa"
      },
      "source": [
        ""
      ],
      "execution_count": null,
      "outputs": []
    }
  ]
}